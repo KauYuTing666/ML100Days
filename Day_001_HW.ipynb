{
  "cells": [
    {
      "cell_type": "markdown",
      "metadata": {
        "id": "FNgKpshsE6aD"
      },
      "source": [
        "## 練習時間\n",
        "#### 請寫一個函式用來計算 Mean Square Error\n",
        "$ MSE = \\frac{1}{n}\\sum_{i=1}^{n}{(Y_i - \\hat{Y}_i)^2} $\n",
        "\n",
        "### Hint: [如何取平方](https://googoodesign.gitbooks.io/-ezpython/unit-1.html)"
      ]
    },
    {
      "cell_type": "markdown",
      "metadata": {
        "id": "7oF9mxfBE6aG"
      },
      "source": [
        "# [作業目標]\n",
        "- 仿造範例的MAE函數, 自己寫一個MSE函數(參考上面公式)"
      ]
    },
    {
      "cell_type": "markdown",
      "metadata": {
        "id": "cOozYuk0E6aG"
      },
      "source": [
        "# [作業重點]\n",
        "- 注意程式的縮排\n",
        "- 是否能將數學公式, 轉換為 Python 的函式組合? (In[2], Out[2])"
      ]
    },
    {
      "cell_type": "code",
      "execution_count": 2,
      "metadata": {
        "collapsed": true,
        "id": "jJvcDKtYE6aH"
      },
      "outputs": [],
      "source": [
        "# 載入基礎套件與代稱\n",
        "import numpy as np\n",
        "import matplotlib.pyplot as plt"
      ]
    },
    {
      "cell_type": "code",
      "execution_count": 3,
      "metadata": {
        "collapsed": true,
        "id": "s9raZsphE6aI"
      },
      "outputs": [],
      "source": [
        "def mean_absolute_error(y, yp):\n",
        "    \"\"\"\n",
        "    計算 MAE\n",
        "    Args:\n",
        "        - y: 實際值\n",
        "        - yp: 預測值\n",
        "    Return:\n",
        "        - mae: MAE\n",
        "    \"\"\"\n",
        "    mae = MAE = sum(abs(y - yp)) / len(y)\n",
        "    return mae\n",
        "\n",
        "# 定義 mean_squared_error 這個函數, 計算並傳回 MSE\n",
        "def mean_squared_error(y,yp):\n",
        "    \"\"\"\n",
        "    請完成這個 Function 後往下執行\n",
        "    \"\"\"\n",
        "    mse=sum((y-yp)**2)/len(y)\n",
        "    return mse"
      ]
    },
    {
      "cell_type": "code",
      "execution_count": 14,
      "metadata": {
        "collapsed": true,
        "colab": {
          "base_uri": "https://localhost:8080/",
          "height": 281
        },
        "id": "e-QpN8GvE6aI",
        "outputId": "18446000-f7d1-4c10-a5e3-dfc5810ce5a2"
      },
      "outputs": [
        {
          "output_type": "display_data",
          "data": {
            "text/plain": [
              "<Figure size 432x288 with 1 Axes>"
            ],
            "image/png": "[encoded data removed]"
          },
          "metadata": {
            "needs_background": "light"
          }
        }
      ],
      "source": [
        "# 與範例相同, 不另外解說\n",
        "w = 3\n",
        "b = 0.5\n",
        "x_lin = np.linspace(0, 100, 101)  #產生一矩陣，頭為0，尾為100，共101個元素(含頭尾)，即元素為:0、1、2、......、100\n",
        "y = (x_lin + np.random.randn(101) * 5) * w + b  #np.random.randn(101):產生101個標準常態分佈的值，即介於均值為0，標準差為1\n",
        "plt.plot(x_lin, y, 'b.', label = 'data points')\n",
        "plt.title(\"Assume we have data points\")\n",
        "plt.legend(loc = 2)\n",
        "plt.show()"
      ]
    },
    {
      "cell_type": "code",
      "execution_count": 15,
      "metadata": {
        "collapsed": true,
        "colab": {
          "base_uri": "https://localhost:8080/",
          "height": 281
        },
        "id": "VuA3prgwE6aJ",
        "outputId": "5860444a-0bbe-47ca-e7ef-a07168f426b3"
      },
      "outputs": [
        {
          "output_type": "display_data",
          "data": {
            "text/plain": [
              "<Figure size 432x288 with 1 Axes>"
            ],
            "image/png": "[encoded data removed]"
          },
          "metadata": {
            "needs_background": "light"
          }
        }
      ],
      "source": [
        "# 與範例相同, 不另外解說\n",
        "y_hat = x_lin * w + b\n",
        "plt.plot(x_lin, y, 'b.', label = 'data')\n",
        "plt.plot(x_lin, y_hat, 'r-', label = 'prediction')\n",
        "plt.title(\"Assume we have data points (And the prediction)\")\n",
        "plt.legend(loc = 2)\n",
        "plt.show()"
      ]
    },
    {
      "cell_type": "code",
      "execution_count": 16,
      "metadata": {
        "collapsed": true,
        "colab": {
          "base_uri": "https://localhost:8080/"
        },
        "id": "7-HeVkIyE6aJ",
        "outputId": "d0d473cf-6fd1-4084-c04b-b16e4b230d45"
      },
      "outputs": [
        {
          "output_type": "stream",
          "name": "stdout",
          "text": [
            "The Mean squared error is 206.706\n",
            "The Mean absolute error is 11.833\n"
          ]
        }
      ],
      "source": [
        "# 執行 Function, 確認有沒有正常執行\n",
        "MSE = mean_squared_error(y, y_hat)\n",
        "MAE = mean_absolute_error(y, y_hat)\n",
        "print(\"The Mean squared error is %.3f\" % (MSE))\n",
        "print(\"The Mean absolute error is %.3f\" % (MAE))"
      ]
    },
    {
      "cell_type": "markdown",
      "metadata": {
        "id": "yG3vLjyQE6aK"
      },
      "source": [
        "# [作業2]\n",
        "\n",
        "請上 Kaggle, 在 Competitions 或 Dataset 中找一組競賽或資料並寫下：\n",
        "\n",
        "Dataset:\n",
        "\n",
        "  Game of Thrones\n",
        "  Explore deaths and battles from this fantasy world\n",
        "\n",
        "  https://www.kaggle.com/datasets/mylesoneill/game-of-thrones\n",
        "\n",
        "1. 你選的這組資料為何重要\n",
        "\n",
        "  可以透過此資料集來預測出自己喜歡的角色死亡的時機和概率，藉此預測劇情走向和各家族的興衰，這麼做可以更加沉浸在冰與火之歌的魅力之中\n",
        "\n",
        "2. 資料從何而來 (tips: 譬如提供者是誰、以什麼方式蒐集)\n",
        "\n",
        "  character-deaths.csv\n",
        "\n",
        "  https://www.kaggle.com/datasets/mylesoneill/game-of-thrones?select=character-deaths.csv\n",
        "\n",
        "3. 蒐集而來的資料型態為何\n",
        "\n",
        "  資料包含冰與火之歌中的角色名字、角色所屬的家族、角色的死亡年齡、角色為貴族或平民等資料、角色於冰與火之歌第幾卷死亡等資料，資料結構為數字和字串混合。\n",
        "\n",
        "4. 這組資料想解決的問題如何評估\n",
        "\n",
        "  預測劇情走向和各家族的興衰。\n",
        "\n",
        "# [作業3]\n",
        "\n",
        "想像你經營一個自由載客車隊，你希望能透過數據分析以提升業績，請你思考並描述你如何規劃整體的分析/解決方案：\n",
        "\n",
        "1. 核心問題為何 (tips：如何定義 「提升業績 & 你的假設」)\n",
        "\n",
        "  何處需要乘車的人較為密集?(有較高的載客續，減少空車造成的油耗)\n",
        "\n",
        "  何處何時的交通較為繁忙?(較順暢的交通，能使接客的效率較高)\n",
        "\n",
        "2. 資料從何而來 (tips：哪些資料可能會對你想問的問題產生影響 & 資料如何蒐集)\n",
        "\n",
        "  電話叫車的各地點之次數\n",
        "\n",
        "  透過行車路徑的紀錄算出在各個路段的平均時速\n",
        "3. 蒐集而來的資料型態為何\n",
        "\n",
        "  為數字和字串的混合資料\n",
        "4. 你要回答的問題，其如何評估 (tips：你的假設如何驗證)\n",
        "  \n",
        "  空車時間占一日工作時間的比例\n",
        "  \n",
        "  一日工作時間內的載客人數\n",
        "\n"
      ]
    }
  ],
  "metadata": {
    "anaconda-cloud": {},
    "kernelspec": {
      "display_name": "Python 3",
      "language": "python",
      "name": "python3"
    },
    "language_info": {
      "codemirror_mode": {
        "name": "ipython",
        "version": 3
      },
      "file_extension": ".py",
      "mimetype": "text/x-python",
      "name": "python",
      "nbconvert_exporter": "python",
      "pygments_lexer": "ipython3",
      "version": "3.7.0"
    },
    "colab": {
      "name": "Day_001_HW.ipynb",
      "provenance": [],
      "collapsed_sections": []
    }
  },
  "nbformat": 4,
  "nbformat_minor": 0
}